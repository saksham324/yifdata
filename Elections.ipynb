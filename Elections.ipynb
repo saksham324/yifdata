{
 "cells": [
  {
   "cell_type": "code",
   "execution_count": 90,
   "metadata": {},
   "outputs": [],
   "source": [
    "import numpy as np \n",
    "import pandas as pd \n",
    "import matplotlib.pyplot as plt"
   ]
  },
  {
   "cell_type": "code",
   "execution_count": 91,
   "metadata": {},
   "outputs": [],
   "source": [
    "data1 = pd.read_excel('Constituencywise.xlsx')"
   ]
  },
  {
   "cell_type": "code",
   "execution_count": 154,
   "metadata": {},
   "outputs": [
    {
     "name": "stdout",
     "output_type": "stream",
     "text": [
      "     State Name               PC NAME SEX   AGE  \\\n",
      "1858    Haryana                Ambala   M  54.0   \n",
      "1859    Haryana                Ambala   F  43.0   \n",
      "1860    Haryana                Ambala   M  62.0   \n",
      "1861    Haryana                Ambala   M  57.0   \n",
      "1864    Haryana                Ambala   M  53.0   \n",
      "1872    Haryana           Kurukshetra   M  62.0   \n",
      "1873    Haryana           Kurukshetra   M  44.0   \n",
      "1874    Haryana           Kurukshetra   M  65.0   \n",
      "1875    Haryana           Kurukshetra   M  60.0   \n",
      "1882    Haryana           Kurukshetra   F  51.0   \n",
      "1895    Haryana                 Sirsa   M  38.0   \n",
      "1896    Haryana                 Sirsa   M  43.0   \n",
      "1897    Haryana                 Sirsa   M  73.0   \n",
      "1899    Haryana                 Sirsa   M  54.0   \n",
      "1900    Haryana                 Sirsa   M  58.0   \n",
      "1914    Haryana                 Hisar   M  45.0   \n",
      "1915    Haryana                 Hisar   M  26.0   \n",
      "1917    Haryana                 Hisar   M  45.0   \n",
      "1918    Haryana                 Hisar   M  64.0   \n",
      "1922    Haryana                 Hisar   M  59.0   \n",
      "1956    Haryana                Karnal   M  51.0   \n",
      "1957    Haryana                Karnal   M  57.0   \n",
      "1958    Haryana                Karnal   M  58.0   \n",
      "1960    Haryana                Karnal   M  59.0   \n",
      "1966    Haryana                Karnal   M  36.0   \n",
      "1980    Haryana               Sonipat   M  64.0   \n",
      "1981    Haryana               Sonipat   M  50.0   \n",
      "1982    Haryana               Sonipat   M  54.0   \n",
      "1983    Haryana               Sonipat   M  65.0   \n",
      "1988    Haryana               Sonipat   M  62.0   \n",
      "2004    Haryana                Rohtak   M  52.0   \n",
      "2005    Haryana                Rohtak   M  36.0   \n",
      "2006    Haryana                Rohtak   M  41.0   \n",
      "2007    Haryana                Rohtak   M  56.0   \n",
      "2010    Haryana                Rohtak   M  33.0   \n",
      "2019    Haryana  Bhiwani-Mahendragarh   M  59.0   \n",
      "2020    Haryana  Bhiwani-Mahendragarh   M  57.0   \n",
      "2021    Haryana  Bhiwani-Mahendragarh   M  44.0   \n",
      "2023    Haryana  Bhiwani-Mahendragarh   F  38.0   \n",
      "2027    Haryana  Bhiwani-Mahendragarh   M  39.0   \n",
      "2046    Haryana               Gurgaon   M  64.0   \n",
      "2047    Haryana               Gurgaon   M  52.0   \n",
      "2048    Haryana               Gurgaon   M  42.0   \n",
      "2049    Haryana               Gurgaon   M  71.0   \n",
      "2053    Haryana               Gurgaon   M  50.0   \n",
      "2069    Haryana             Faridabad   M  58.0   \n",
      "2070    Haryana             Faridabad   M  71.0   \n",
      "2071    Haryana             Faridabad   M  57.0   \n",
      "2072    Haryana             Faridabad   M  51.0   \n",
      "2080    Haryana             Faridabad   M  32.0   \n",
      "\n",
      "      OVER TOTAL VOTES POLLED IN CONSTITUENCY  \n",
      "1858                                 8.411187  \n",
      "1859                                10.619486  \n",
      "1860                                50.168712  \n",
      "1861                                22.296650  \n",
      "1864                                 5.214712  \n",
      "1872                                 6.066506  \n",
      "1873                                25.323784  \n",
      "1874                                25.381346  \n",
      "1875                                36.800030  \n",
      "1882                                 2.865233  \n",
      "1895                                30.535720  \n",
      "1896                                39.582762  \n",
      "1897                                 1.622020  \n",
      "1899                                18.844121  \n",
      "1900                                 5.225172  \n",
      "1914                                39.992203  \n",
      "1915                                42.745221  \n",
      "1917                                 2.631909  \n",
      "1918                                 8.861405  \n",
      "1922                                 2.462822  \n",
      "1956                                19.659093  \n",
      "1957                                49.829814  \n",
      "1958                                15.741181  \n",
      "1960                                 8.597492  \n",
      "1966                                 2.685774  \n",
      "1980                                27.347573  \n",
      "1981                                26.801714  \n",
      "1982                                35.194761  \n",
      "1983                                 2.443237  \n",
      "1988                                 4.926109  \n",
      "2004                                30.546933  \n",
      "2005                                46.863602  \n",
      "2006                                 1.787282  \n",
      "2007                                14.451260  \n",
      "2010                                 4.471456  \n",
      "2019                                39.224245  \n",
      "2020                                26.678250  \n",
      "2021                                 2.698775  \n",
      "2023                                25.996333  \n",
      "2027                                 2.152504  \n",
      "2046                                48.823039  \n",
      "2047                                28.020962  \n",
      "2048                                 4.922511  \n",
      "2049                                10.124810  \n",
      "2053                                 6.016445  \n",
      "2069                                16.415045  \n",
      "2070                                11.713525  \n",
      "2071                                57.697191  \n",
      "2072                                 5.835895  \n",
      "2080                                 5.955707  \n"
     ]
    }
   ],
   "source": [
    "data1.head()\n",
    "features = ['State Name', 'PC NAME', 'SEX', 'AGE','OVER TOTAL VOTES POLLED IN CONSTITUENCY']\n",
    "data2 = data1[features]\n",
    "data3 = data2.loc[(data2['State Name']=='Haryana') & (data2['OVER TOTAL VOTES POLLED IN CONSTITUENCY']>1)]\n",
    "\n",
    "data3 = data3.dropna()\n",
    "print(data3)"
   ]
  },
  {
   "cell_type": "code",
   "execution_count": 155,
   "metadata": {},
   "outputs": [
    {
     "data": {
      "text/plain": [
       "<seaborn.axisgrid.PairGrid at 0x1a256e0240>"
      ]
     },
     "execution_count": 155,
     "metadata": {},
     "output_type": "execute_result"
    },
    {
     "data": {
      "image/png": "[encoded data removed]",
      "text/plain": [
       "<Figure size 720x720 with 1 Axes>"
      ]
     },
     "metadata": {},
     "output_type": "display_data"
    }
   ],
   "source": [
    "import seaborn as sns\n",
    "sns.pairplot(data3, x_vars=['AGE'], y_vars=['OVER TOTAL VOTES POLLED IN CONSTITUENCY'], size=10, aspect=1, kind='reg')"
   ]
  },
  {
   "cell_type": "code",
   "execution_count": null,
   "metadata": {},
   "outputs": [],
   "source": []
  }
 ],
 "metadata": {
  "kernelspec": {
   "display_name": "Python 3",
   "language": "python",
   "name": "python3"
  },
  "language_info": {
   "codemirror_mode": {
    "name": "ipython",
    "version": 3
   },
   "file_extension": ".py",
   "mimetype": "text/x-python",
   "name": "python",
   "nbconvert_exporter": "python",
   "pygments_lexer": "ipython3",
   "version": "3.6.5"
  }
 },
 "nbformat": 4,
 "nbformat_minor": 2
}
